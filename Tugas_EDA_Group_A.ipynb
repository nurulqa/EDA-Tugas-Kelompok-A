{
  "nbformat": 4,
  "nbformat_minor": 0,
  "metadata": {
    "kernelspec": {
      "display_name": "Python 3",
      "language": "python",
      "name": "python3"
    },
    "language_info": {
      "codemirror_mode": {
        "name": "ipython",
        "version": 3
      },
      "file_extension": ".py",
      "mimetype": "text/x-python",
      "name": "python",
      "nbconvert_exporter": "python",
      "pygments_lexer": "ipython3",
      "version": "3.8.3"
    },
    "colab": {
      "name": "Tugas EDA Group A.ipynb",
      "provenance": []
    }
  },
  "cells": [
    {
      "cell_type": "markdown",
      "metadata": {
        "id": "JexIe5Fj_sS4"
      },
      "source": [
        "Anggota Kelompok A :\n",
        "1. Aditya Firmansyah 2006533143\n",
        "2. Naufal Fachri Muhammad 2006533710\n",
        "3. Zhafirah Tsany 2006572951\n",
        "4. Nurul Qomariah Abdillah 2006463811\n",
        "5. Muhammad Fabian Alkautsar 2006482653\n",
        "\n"
      ]
    },
    {
      "cell_type": "markdown",
      "metadata": {
        "id": "wVeizE3b3GQJ"
      },
      "source": [
        "## Tugas 1 (Menghilangkan Outlier Atas)"
      ]
    },
    {
      "cell_type": "code",
      "metadata": {
        "id": "0mt9mDX03GRg"
      },
      "source": [
        "import numpy as np\n",
        "import pandas as pd\n",
        "import matplotlib.pyplot as plt\n",
        "import seaborn as sns"
      ],
      "execution_count": null,
      "outputs": []
    },
    {
      "cell_type": "code",
      "metadata": {
        "id": "a6bm_WUA3GRi",
        "outputId": "fd366a46-12b6-4ea9-b88b-e78390bb0d51"
      },
      "source": [
        "data_price = pd.read_csv('https://raw.githubusercontent.com/taudata-indonesia/eLearning/master/data/price.csv')\n",
        "display(data_price.head())\n",
        "data_price.drop('Observation', axis = 1, inplace = True)\n",
        "display(data_price.head())\n",
        "data_price['Parking'] = data_price['Parking'].astype('category')\n",
        "data_price['City_Category'] = data_price['City_Category'].astype('category')\n",
        "print(data_price.info())\n",
        "print(data_price.isnull().sum())\n",
        "print(data_price.duplicated().sum()) # mengecek apakah terdapat duplikasi\n",
        "data_price.drop_duplicates(inplace=True) # Menghilangkan duplicate\n",
        "print(data_price.duplicated().sum())"
      ],
      "execution_count": null,
      "outputs": [
        {
          "output_type": "display_data",
          "data": {
            "text/html": [
              "<div>\n",
              "<style scoped>\n",
              "    .dataframe tbody tr th:only-of-type {\n",
              "        vertical-align: middle;\n",
              "    }\n",
              "\n",
              "    .dataframe tbody tr th {\n",
              "        vertical-align: top;\n",
              "    }\n",
              "\n",
              "    .dataframe thead th {\n",
              "        text-align: right;\n",
              "    }\n",
              "</style>\n",
              "<table border=\"1\" class=\"dataframe\">\n",
              "  <thead>\n",
              "    <tr style=\"text-align: right;\">\n",
              "      <th></th>\n",
              "      <th>Observation</th>\n",
              "      <th>Dist_Taxi</th>\n",
              "      <th>Dist_Market</th>\n",
              "      <th>Dist_Hospital</th>\n",
              "      <th>Carpet</th>\n",
              "      <th>Builtup</th>\n",
              "      <th>Parking</th>\n",
              "      <th>City_Category</th>\n",
              "      <th>Rainfall</th>\n",
              "      <th>House_Price</th>\n",
              "    </tr>\n",
              "  </thead>\n",
              "  <tbody>\n",
              "    <tr>\n",
              "      <th>0</th>\n",
              "      <td>1</td>\n",
              "      <td>9796.0</td>\n",
              "      <td>5250.0</td>\n",
              "      <td>10703.0</td>\n",
              "      <td>1659.0</td>\n",
              "      <td>1961.0</td>\n",
              "      <td>Open</td>\n",
              "      <td>CAT B</td>\n",
              "      <td>530</td>\n",
              "      <td>6649000</td>\n",
              "    </tr>\n",
              "    <tr>\n",
              "      <th>1</th>\n",
              "      <td>2</td>\n",
              "      <td>8294.0</td>\n",
              "      <td>8186.0</td>\n",
              "      <td>12694.0</td>\n",
              "      <td>1461.0</td>\n",
              "      <td>1752.0</td>\n",
              "      <td>Not Provided</td>\n",
              "      <td>CAT B</td>\n",
              "      <td>210</td>\n",
              "      <td>3982000</td>\n",
              "    </tr>\n",
              "    <tr>\n",
              "      <th>2</th>\n",
              "      <td>3</td>\n",
              "      <td>11001.0</td>\n",
              "      <td>14399.0</td>\n",
              "      <td>16991.0</td>\n",
              "      <td>1340.0</td>\n",
              "      <td>1609.0</td>\n",
              "      <td>Not Provided</td>\n",
              "      <td>CAT A</td>\n",
              "      <td>720</td>\n",
              "      <td>5401000</td>\n",
              "    </tr>\n",
              "    <tr>\n",
              "      <th>3</th>\n",
              "      <td>4</td>\n",
              "      <td>8301.0</td>\n",
              "      <td>11188.0</td>\n",
              "      <td>12289.0</td>\n",
              "      <td>1451.0</td>\n",
              "      <td>1748.0</td>\n",
              "      <td>Covered</td>\n",
              "      <td>CAT B</td>\n",
              "      <td>620</td>\n",
              "      <td>5373000</td>\n",
              "    </tr>\n",
              "    <tr>\n",
              "      <th>4</th>\n",
              "      <td>5</td>\n",
              "      <td>10510.0</td>\n",
              "      <td>12629.0</td>\n",
              "      <td>13921.0</td>\n",
              "      <td>1770.0</td>\n",
              "      <td>2111.0</td>\n",
              "      <td>Not Provided</td>\n",
              "      <td>CAT B</td>\n",
              "      <td>450</td>\n",
              "      <td>4662000</td>\n",
              "    </tr>\n",
              "  </tbody>\n",
              "</table>\n",
              "</div>"
            ],
            "text/plain": [
              "   Observation  Dist_Taxi  Dist_Market  Dist_Hospital  Carpet  Builtup  \\\n",
              "0            1     9796.0       5250.0        10703.0  1659.0   1961.0   \n",
              "1            2     8294.0       8186.0        12694.0  1461.0   1752.0   \n",
              "2            3    11001.0      14399.0        16991.0  1340.0   1609.0   \n",
              "3            4     8301.0      11188.0        12289.0  1451.0   1748.0   \n",
              "4            5    10510.0      12629.0        13921.0  1770.0   2111.0   \n",
              "\n",
              "        Parking City_Category  Rainfall  House_Price  \n",
              "0          Open         CAT B       530      6649000  \n",
              "1  Not Provided         CAT B       210      3982000  \n",
              "2  Not Provided         CAT A       720      5401000  \n",
              "3       Covered         CAT B       620      5373000  \n",
              "4  Not Provided         CAT B       450      4662000  "
            ]
          },
          "metadata": {
            "tags": []
          }
        },
        {
          "output_type": "display_data",
          "data": {
            "text/html": [
              "<div>\n",
              "<style scoped>\n",
              "    .dataframe tbody tr th:only-of-type {\n",
              "        vertical-align: middle;\n",
              "    }\n",
              "\n",
              "    .dataframe tbody tr th {\n",
              "        vertical-align: top;\n",
              "    }\n",
              "\n",
              "    .dataframe thead th {\n",
              "        text-align: right;\n",
              "    }\n",
              "</style>\n",
              "<table border=\"1\" class=\"dataframe\">\n",
              "  <thead>\n",
              "    <tr style=\"text-align: right;\">\n",
              "      <th></th>\n",
              "      <th>Dist_Taxi</th>\n",
              "      <th>Dist_Market</th>\n",
              "      <th>Dist_Hospital</th>\n",
              "      <th>Carpet</th>\n",
              "      <th>Builtup</th>\n",
              "      <th>Parking</th>\n",
              "      <th>City_Category</th>\n",
              "      <th>Rainfall</th>\n",
              "      <th>House_Price</th>\n",
              "    </tr>\n",
              "  </thead>\n",
              "  <tbody>\n",
              "    <tr>\n",
              "      <th>0</th>\n",
              "      <td>9796.0</td>\n",
              "      <td>5250.0</td>\n",
              "      <td>10703.0</td>\n",
              "      <td>1659.0</td>\n",
              "      <td>1961.0</td>\n",
              "      <td>Open</td>\n",
              "      <td>CAT B</td>\n",
              "      <td>530</td>\n",
              "      <td>6649000</td>\n",
              "    </tr>\n",
              "    <tr>\n",
              "      <th>1</th>\n",
              "      <td>8294.0</td>\n",
              "      <td>8186.0</td>\n",
              "      <td>12694.0</td>\n",
              "      <td>1461.0</td>\n",
              "      <td>1752.0</td>\n",
              "      <td>Not Provided</td>\n",
              "      <td>CAT B</td>\n",
              "      <td>210</td>\n",
              "      <td>3982000</td>\n",
              "    </tr>\n",
              "    <tr>\n",
              "      <th>2</th>\n",
              "      <td>11001.0</td>\n",
              "      <td>14399.0</td>\n",
              "      <td>16991.0</td>\n",
              "      <td>1340.0</td>\n",
              "      <td>1609.0</td>\n",
              "      <td>Not Provided</td>\n",
              "      <td>CAT A</td>\n",
              "      <td>720</td>\n",
              "      <td>5401000</td>\n",
              "    </tr>\n",
              "    <tr>\n",
              "      <th>3</th>\n",
              "      <td>8301.0</td>\n",
              "      <td>11188.0</td>\n",
              "      <td>12289.0</td>\n",
              "      <td>1451.0</td>\n",
              "      <td>1748.0</td>\n",
              "      <td>Covered</td>\n",
              "      <td>CAT B</td>\n",
              "      <td>620</td>\n",
              "      <td>5373000</td>\n",
              "    </tr>\n",
              "    <tr>\n",
              "      <th>4</th>\n",
              "      <td>10510.0</td>\n",
              "      <td>12629.0</td>\n",
              "      <td>13921.0</td>\n",
              "      <td>1770.0</td>\n",
              "      <td>2111.0</td>\n",
              "      <td>Not Provided</td>\n",
              "      <td>CAT B</td>\n",
              "      <td>450</td>\n",
              "      <td>4662000</td>\n",
              "    </tr>\n",
              "  </tbody>\n",
              "</table>\n",
              "</div>"
            ],
            "text/plain": [
              "   Dist_Taxi  Dist_Market  Dist_Hospital  Carpet  Builtup       Parking  \\\n",
              "0     9796.0       5250.0        10703.0  1659.0   1961.0          Open   \n",
              "1     8294.0       8186.0        12694.0  1461.0   1752.0  Not Provided   \n",
              "2    11001.0      14399.0        16991.0  1340.0   1609.0  Not Provided   \n",
              "3     8301.0      11188.0        12289.0  1451.0   1748.0       Covered   \n",
              "4    10510.0      12629.0        13921.0  1770.0   2111.0  Not Provided   \n",
              "\n",
              "  City_Category  Rainfall  House_Price  \n",
              "0         CAT B       530      6649000  \n",
              "1         CAT B       210      3982000  \n",
              "2         CAT A       720      5401000  \n",
              "3         CAT B       620      5373000  \n",
              "4         CAT B       450      4662000  "
            ]
          },
          "metadata": {
            "tags": []
          }
        },
        {
          "output_type": "stream",
          "text": [
            "<class 'pandas.core.frame.DataFrame'>\n",
            "RangeIndex: 936 entries, 0 to 935\n",
            "Data columns (total 9 columns):\n",
            " #   Column         Non-Null Count  Dtype   \n",
            "---  ------         --------------  -----   \n",
            " 0   Dist_Taxi      923 non-null    float64 \n",
            " 1   Dist_Market    923 non-null    float64 \n",
            " 2   Dist_Hospital  935 non-null    float64 \n",
            " 3   Carpet         928 non-null    float64 \n",
            " 4   Builtup        921 non-null    float64 \n",
            " 5   Parking        936 non-null    category\n",
            " 6   City_Category  936 non-null    category\n",
            " 7   Rainfall       936 non-null    int64   \n",
            " 8   House_Price    936 non-null    int64   \n",
            "dtypes: category(2), float64(5), int64(2)\n",
            "memory usage: 53.4 KB\n",
            "None\n",
            "Dist_Taxi        13\n",
            "Dist_Market      13\n",
            "Dist_Hospital     1\n",
            "Carpet            8\n",
            "Builtup          15\n",
            "Parking           0\n",
            "City_Category     0\n",
            "Rainfall          0\n",
            "House_Price       0\n",
            "dtype: int64\n",
            "4\n",
            "0\n"
          ],
          "name": "stdout"
        }
      ]
    },
    {
      "cell_type": "code",
      "metadata": {
        "id": "V-Qn6mgW3GRm",
        "outputId": "9aabeddc-0f91-4c46-bdb4-a2c7460f8e68"
      },
      "source": [
        "sns.catplot(x = 'Parking', y = 'House_Price', data = data_price, hue = 'City_Category', kind = 'box')\n",
        "outlier = np.abs(data_price['House_Price']-data_price['House_Price'].mean()) < (2*data_price.House_Price.std())\n",
        "new = data_price[outlier]\n",
        "print(new.shape)\n",
        "sns.catplot(x = 'Parking', y = 'House_Price', data = new, hue = 'City_Category', kind = 'box')"
      ],
      "execution_count": null,
      "outputs": [
        {
          "output_type": "stream",
          "text": [
            "(931, 9)\n"
          ],
          "name": "stdout"
        },
        {
          "output_type": "execute_result",
          "data": {
            "text/plain": [
              "<seaborn.axisgrid.FacetGrid at 0x1602f21e3d0>"
            ]
          },
          "metadata": {
            "tags": []
          },
          "execution_count": 5
        },
        {
          "output_type": "display_data",
          "data": {
            "image/png": "[encoded data removed]",
            "text/plain": [
              "<Figure size 437.875x360 with 1 Axes>"
            ]
          },
          "metadata": {
            "tags": [],
            "needs_background": "light"
          }
        },
        {
          "output_type": "display_data",
          "data": {
            "image/png": "[encoded data removed]",
            "text/plain": [
              "<Figure size 437.875x360 with 1 Axes>"
            ]
          },
          "metadata": {
            "tags": [],
            "needs_background": "light"
          }
        }
      ]
    },
    {
      "cell_type": "code",
      "metadata": {
        "id": "hbeq8mYB3GRq"
      },
      "source": [
        "#men-slice data menjadi beberapa kategori dari variabel parking\n",
        "covered = new[new['Parking']=='Covered']\n",
        "No_parking = new[new['Parking']=='No Parking']\n",
        "Not_provided = new[new['Parking']=='Not Provided']\n",
        "Parking_open = new[new['Parking']=='Open']"
      ],
      "execution_count": null,
      "outputs": []
    },
    {
      "cell_type": "code",
      "metadata": {
        "id": "k9qzQP5E3GRs",
        "outputId": "d836691e-fedd-4cb7-dbe3-1211d77e04e5"
      },
      "source": [
        "city_cat = ['CAT B','CAT C']\n",
        "Arr1 = []\n",
        "for cat in city_cat : \n",
        "    Covered_CAT = covered[covered['City_Category'] == cat]\n",
        "    Q1_Covered = Covered_CAT['House_Price'].quantile(0.25)\n",
        "    Q3_Covered = Covered_CAT['House_Price'].quantile(0.75)\n",
        "    IQR_covered = Q3_Covered - Q1_Covered\n",
        "    lower_bound = Q1_Covered - 1.5*IQR_covered\n",
        "    upper_bound = Q3_Covered + 1.5*IQR_covered\n",
        "    new1 = Covered_CAT[Covered_CAT['House_Price']<= upper_bound]\n",
        "    dict_covered = new1.to_dict()\n",
        "    Arr1.append((dict_covered))\n",
        "join1 = pd.concat([pd.DataFrame(Arr1[0]),pd.DataFrame(Arr1[1])], ignore_index = True)\n",
        "join1_q1 = join1['House_Price'].quantile(0.25)\n",
        "join1_q3 = join1['House_Price'].quantile(0.75)\n",
        "join1_iqr = join1_q3 - join1_q1\n",
        "print(covered.shape)\n",
        "print(join1.shape)\n",
        "sns.catplot(x = 'Parking', y= 'House_Price',data = join1, hue ='City_Category',kind = 'box', whis = 1.5*join1_iqr)\n",
        "\n",
        "#No_Parking Category\n",
        "Noparking_CAT = No_parking[No_parking['City_Category'] == \"CAT A\"]\n",
        "Q1_Noparking = Noparking_CAT['House_Price'].quantile(0.25)\n",
        "Q3_Noparking = Noparking_CAT['House_Price'].quantile(0.75)\n",
        "IQR_Noparking = Q3_Noparking - Q1_Noparking\n",
        "lower_bound_noparking = Q1_Noparking - 1.5*IQR_Noparking\n",
        "upper_bound_noparking = Q3_Noparking + 1.5*IQR_Noparking\n",
        "new2 = Noparking_CAT[Noparking_CAT['House_Price']<= upper_bound]\n",
        "sns.catplot(x = 'Parking', y = 'House_Price', hue = 'City_Category',data = new2, kind = 'box', whis = 1.5*IQR_Noparking)\n",
        "\n",
        "#Not_Provided Category\n",
        "city_cat2 = ['CAT A','CAT B','CAT C']\n",
        "Arr2 = []\n",
        "for cat in city_cat2:\n",
        "    Notprovided_CAT = Not_provided[Not_provided['City_Category'] == cat]\n",
        "    Q1_Notprovided = Notprovided_CAT['House_Price'].quantile(0.25)\n",
        "    Q3_Notprovided = Notprovided_CAT['House_Price'].quantile(0.75)\n",
        "    IQR_Notprovided = Q3_Notprovided - Q1_Notprovided\n",
        "    lower_bound_Notprovided = Q1_Notprovided - 1.5*IQR_Notprovided\n",
        "    upper_bound_Notprovided = Q3_Notprovided + 1.5*IQR_Notprovided\n",
        "    new3 = Notprovided_CAT[Notprovided_CAT['House_Price']<= upper_bound_Notprovided]\n",
        "    dict_Notprovided = new3.to_dict()\n",
        "    Arr2.append((dict_Notprovided))\n",
        "join2 = pd.concat([pd.DataFrame(Arr2[0]),pd.DataFrame(Arr2[1]),pd.DataFrame(Arr2[2])], ignore_index = True)\n",
        "join2_q1 = join2['House_Price'].quantile(0.25)\n",
        "join2_q3 = join2['House_Price'].quantile(0.75)\n",
        "join2_iqr = join2_q3 - join1_q1\n",
        "sns.catplot(x = 'Parking', y= 'House_Price',data = join2, hue ='City_Category',kind = 'box', whis = 1.5*join2_iqr)\n",
        "\n",
        "#Parking_open Category\n",
        "city_cat3 = ['CAT B','CAT C']\n",
        "Arr3 = []\n",
        "for cat in city_cat3:\n",
        "    Parkingopen_CAT = Parking_open[Parking_open['City_Category'] == cat]\n",
        "    Q1_Parkingopen = Parkingopen_CAT['House_Price'].quantile(0.25)\n",
        "    Q3_Parkingopen = Parkingopen_CAT['House_Price'].quantile(0.75)\n",
        "    IQR_Parkingopen = Q3_Parkingopen - Q1_Parkingopen\n",
        "    lower_bound_Parkingopen = Q1_Parkingopen - 1.5*IQR_Parkingopen\n",
        "    upper_bound_Parkingopen = Q3_Parkingopen + 1.5*IQR_Parkingopen\n",
        "    new4 = Parkingopen_CAT[Parkingopen_CAT['House_Price']<= upper_bound_Parkingopen]\n",
        "    dict_Parkingopen = new4.to_dict()\n",
        "    Arr3.append((dict_Parkingopen))\n",
        "join3 = pd.concat([pd.DataFrame(Arr3[0]),pd.DataFrame(Arr3[1])], ignore_index = True)\n",
        "join3_q1 = join3['House_Price'].quantile(0.25)\n",
        "join3_q3 = join3['House_Price'].quantile(0.75)\n",
        "join3_iqr = join3_q3 - join3_q1\n",
        "sns.catplot(x = 'Parking', y= 'House_Price',data = join3, hue ='City_Category',kind = 'box', whis = 1.5*join3_iqr)"
      ],
      "execution_count": null,
      "outputs": [
        {
          "output_type": "stream",
          "text": [
            "(187, 9)\n",
            "(108, 9)\n"
          ],
          "name": "stdout"
        },
        {
          "output_type": "execute_result",
          "data": {
            "text/plain": [
              "<seaborn.axisgrid.FacetGrid at 0x1602f699100>"
            ]
          },
          "metadata": {
            "tags": []
          },
          "execution_count": 10
        },
        {
          "output_type": "display_data",
          "data": {
            "image/png": "[encoded data removed]",
            "text/plain": [
              "<Figure size 437.875x360 with 1 Axes>"
            ]
          },
          "metadata": {
            "tags": [],
            "needs_background": "light"
          }
        },
        {
          "output_type": "display_data",
          "data": {
            "image/png": "[encoded data removed]",
            "text/plain": [
              "<Figure size 437.875x360 with 1 Axes>"
            ]
          },
          "metadata": {
            "tags": [],
            "needs_background": "light"
          }
        },
        {
          "output_type": "display_data",
          "data": {
            "image/png": "[encoded data removed]",
            "text/plain": [
              "<Figure size 437.875x360 with 1 Axes>"
            ]
          },
          "metadata": {
            "tags": [],
            "needs_background": "light"
          }
        },
        {
          "output_type": "display_data",
          "data": {
            "image/png": "[encoded data removed]",
            "text/plain": [
              "<Figure size 437.875x360 with 1 Axes>"
            ]
          },
          "metadata": {
            "tags": [],
            "needs_background": "light"
          }
        }
      ]
    },
    {
      "cell_type": "markdown",
      "metadata": {
        "id": "8gjZ4Mb63GRw"
      },
      "source": [
        "## Tugas 2 (Menghilangkan Outlier Bawah)"
      ]
    },
    {
      "cell_type": "code",
      "metadata": {
        "id": "lCxxiXvV3GRz",
        "outputId": "4952674a-f54b-45ee-a27d-afaf1f03bedd"
      },
      "source": [
        "#Covered Category\n",
        "city_cat = ['CAT A','CAT C']\n",
        "Arr1 = []\n",
        "for cat in city_cat : \n",
        "    Covered_CAT = covered[covered['City_Category'] == cat]\n",
        "    Q1_Covered = Covered_CAT['House_Price'].quantile(0.25)\n",
        "    Q3_Covered = Covered_CAT['House_Price'].quantile(0.75)\n",
        "    IQR_covered = Q3_Covered - Q1_Covered\n",
        "    lower_bound = Q1_Covered - 1.5*IQR_covered\n",
        "    upper_bound = Q3_Covered + 1.5*IQR_covered\n",
        "    new1 = Covered_CAT[Covered_CAT['House_Price']>= lower_bound]\n",
        "    dict_covered = new1.to_dict()\n",
        "    Arr1.append((dict_covered))\n",
        "join1 = pd.concat([pd.DataFrame(Arr1[0]),pd.DataFrame(Arr1[1])], ignore_index = True)\n",
        "join1_q1 = join1['House_Price'].quantile(0.25)\n",
        "join1_q3 = join1['House_Price'].quantile(0.75)\n",
        "join1_iqr = join1_q3 - join1_q1\n",
        "print(covered.shape)\n",
        "print(join1.shape)\n",
        "sns.catplot(x = 'Parking', y= 'House_Price',data = join1, hue ='City_Category',kind = 'box')\n",
        "\n",
        "#No parking category\n",
        "\n",
        "Noparking_CAT = No_parking[No_parking['City_Category'] == \"CAT A\"]\n",
        "Q1_Noparking = Noparking_CAT['House_Price'].quantile(0.25)\n",
        "Q3_Noparking = Noparking_CAT['House_Price'].quantile(0.75)\n",
        "IQR_Noparking = Q3_Noparking - Q1_Noparking\n",
        "lower_bound_noparking = Q1_Noparking - 1.5*IQR_Noparking\n",
        "upper_bound_noparking = Q3_Noparking + 1.5*IQR_Noparking\n",
        "new2 = Noparking_CAT[Noparking_CAT['House_Price']>= lower_bound_noparking]\n",
        "sns.catplot(x = 'Parking', y = 'House_Price', hue = 'City_Category',data = new2, kind = 'box')\n",
        "\n",
        "#Open Category\n",
        "Parkingopen_CAT = Parking_open[Parking_open['City_Category'] == 'CAT A']\n",
        "Q1_Parkingopen = Parkingopen_CAT['House_Price'].quantile(0.25)\n",
        "Q3_Parkingopen = Parkingopen_CAT['House_Price'].quantile(0.75)\n",
        "IQR_Parkingopen = Q3_Parkingopen - Q1_Parkingopen\n",
        "lower_bound_Parkingopen = Q1_Parkingopen - 1.5*IQR_Parkingopen\n",
        "upper_bound_Parkingopen = Q3_Parkingopen + 1.5*IQR_Parkingopen\n",
        "new4 = Parkingopen_CAT[Parkingopen_CAT['House_Price']>= lower_bound_Parkingopen]\n",
        "sns.catplot(x = 'Parking', y = 'House_Price', hue = 'City_Category',data = new4, kind = 'box')"
      ],
      "execution_count": null,
      "outputs": [
        {
          "output_type": "stream",
          "text": [
            "(187, 9)\n",
            "(121, 9)\n"
          ],
          "name": "stdout"
        },
        {
          "output_type": "execute_result",
          "data": {
            "text/plain": [
              "<seaborn.axisgrid.FacetGrid at 0x1602f5f5610>"
            ]
          },
          "metadata": {
            "tags": []
          },
          "execution_count": 11
        },
        {
          "output_type": "display_data",
          "data": {
            "image/png": "[encoded data removed]",
            "text/plain": [
              "<Figure size 437.875x360 with 1 Axes>"
            ]
          },
          "metadata": {
            "tags": [],
            "needs_background": "light"
          }
        },
        {
          "output_type": "display_data",
          "data": {
            "image/png": "[encoded data removed]",
            "text/plain": [
              "<Figure size 437.875x360 with 1 Axes>"
            ]
          },
          "metadata": {
            "tags": [],
            "needs_background": "light"
          }
        },
        {
          "output_type": "display_data",
          "data": {
            "image/png": "[encoded data removed]",
            "text/plain": [
              "<Figure size 437.875x360 with 1 Axes>"
            ]
          },
          "metadata": {
            "tags": [],
            "needs_background": "light"
          }
        }
      ]
    },
    {
      "cell_type": "markdown",
      "metadata": {
        "id": "D2JTAuvm3GR1"
      },
      "source": [
        "# Tugas 3 (Data Tips)"
      ]
    },
    {
      "cell_type": "markdown",
      "metadata": {
        "id": "51p2HegK3GR6"
      },
      "source": [
        "## Number 1 and 2"
      ]
    },
    {
      "cell_type": "markdown",
      "metadata": {
        "id": "n9F9HIet3GR_"
      },
      "source": [
        "1. Adakah tipe variabel yang kurang tepat pada data?"
      ]
    },
    {
      "cell_type": "code",
      "metadata": {
        "id": "wlAcVKou3GSE",
        "outputId": "417f9538-bf1d-4fac-86ad-3425daa2dab8"
      },
      "source": [
        "tips = sns.load_dataset('tips')\n",
        "tips.head(5)"
      ],
      "execution_count": null,
      "outputs": [
        {
          "output_type": "execute_result",
          "data": {
            "text/html": [
              "<div>\n",
              "<style scoped>\n",
              "    .dataframe tbody tr th:only-of-type {\n",
              "        vertical-align: middle;\n",
              "    }\n",
              "\n",
              "    .dataframe tbody tr th {\n",
              "        vertical-align: top;\n",
              "    }\n",
              "\n",
              "    .dataframe thead th {\n",
              "        text-align: right;\n",
              "    }\n",
              "</style>\n",
              "<table border=\"1\" class=\"dataframe\">\n",
              "  <thead>\n",
              "    <tr style=\"text-align: right;\">\n",
              "      <th></th>\n",
              "      <th>total_bill</th>\n",
              "      <th>tip</th>\n",
              "      <th>sex</th>\n",
              "      <th>smoker</th>\n",
              "      <th>day</th>\n",
              "      <th>time</th>\n",
              "      <th>size</th>\n",
              "    </tr>\n",
              "  </thead>\n",
              "  <tbody>\n",
              "    <tr>\n",
              "      <th>0</th>\n",
              "      <td>16.99</td>\n",
              "      <td>1.01</td>\n",
              "      <td>Female</td>\n",
              "      <td>No</td>\n",
              "      <td>Sun</td>\n",
              "      <td>Dinner</td>\n",
              "      <td>2</td>\n",
              "    </tr>\n",
              "    <tr>\n",
              "      <th>1</th>\n",
              "      <td>10.34</td>\n",
              "      <td>1.66</td>\n",
              "      <td>Male</td>\n",
              "      <td>No</td>\n",
              "      <td>Sun</td>\n",
              "      <td>Dinner</td>\n",
              "      <td>3</td>\n",
              "    </tr>\n",
              "    <tr>\n",
              "      <th>2</th>\n",
              "      <td>21.01</td>\n",
              "      <td>3.50</td>\n",
              "      <td>Male</td>\n",
              "      <td>No</td>\n",
              "      <td>Sun</td>\n",
              "      <td>Dinner</td>\n",
              "      <td>3</td>\n",
              "    </tr>\n",
              "    <tr>\n",
              "      <th>3</th>\n",
              "      <td>23.68</td>\n",
              "      <td>3.31</td>\n",
              "      <td>Male</td>\n",
              "      <td>No</td>\n",
              "      <td>Sun</td>\n",
              "      <td>Dinner</td>\n",
              "      <td>2</td>\n",
              "    </tr>\n",
              "    <tr>\n",
              "      <th>4</th>\n",
              "      <td>24.59</td>\n",
              "      <td>3.61</td>\n",
              "      <td>Female</td>\n",
              "      <td>No</td>\n",
              "      <td>Sun</td>\n",
              "      <td>Dinner</td>\n",
              "      <td>4</td>\n",
              "    </tr>\n",
              "  </tbody>\n",
              "</table>\n",
              "</div>"
            ],
            "text/plain": [
              "   total_bill   tip     sex smoker  day    time  size\n",
              "0       16.99  1.01  Female     No  Sun  Dinner     2\n",
              "1       10.34  1.66    Male     No  Sun  Dinner     3\n",
              "2       21.01  3.50    Male     No  Sun  Dinner     3\n",
              "3       23.68  3.31    Male     No  Sun  Dinner     2\n",
              "4       24.59  3.61  Female     No  Sun  Dinner     4"
            ]
          },
          "metadata": {
            "tags": []
          },
          "execution_count": 12
        }
      ]
    },
    {
      "cell_type": "code",
      "metadata": {
        "id": "4FMJfVdO3GSG",
        "outputId": "39d585aa-c425-4183-8bef-a822e728b33c"
      },
      "source": [
        "# Disini kita akan memeriksa tipe-tipe variabel yang terdapat pada data tips restaurant di atas \n",
        "# karena terkadang data yang tersedia disimpan sebagai string atau object. \n",
        "print(tips.dtypes)"
      ],
      "execution_count": null,
      "outputs": [
        {
          "output_type": "stream",
          "text": [
            "total_bill     float64\n",
            "tip            float64\n",
            "sex           category\n",
            "smoker        category\n",
            "day           category\n",
            "time          category\n",
            "size             int64\n",
            "dtype: object\n"
          ],
          "name": "stdout"
        }
      ]
    },
    {
      "cell_type": "markdown",
      "metadata": {
        "id": "YyJddVND3GSI"
      },
      "source": [
        "Terlihat bahwa data dari tips sudah memiliki tipe data yang sesuai dengan variabelnya masing-masing. Namun, bisa juga mengubah tipe data kategorik menjadi numerik untuk memudahkan dalam membuat permodelan. Terlihat bahwa variabel sex, smoker, day, dan time memiliki tipe category sehingga diperlukan proses konversi untuk merubahnya menjadi bentuk numerikal. Maka tahap selanjutnya kita akan mengubah variabel kategorikal menjadi variabel numerik."
      ]
    },
    {
      "cell_type": "markdown",
      "metadata": {
        "id": "QQfOEcA03GSI"
      },
      "source": [
        "2. Apakah data numeriknya cenderung berdistribusi normal?"
      ]
    },
    {
      "cell_type": "code",
      "metadata": {
        "id": "2vwoX0UM3GSK",
        "outputId": "d8de3182-80e8-4029-b023-b29091f96857"
      },
      "source": [
        "tips_num = tips.select_dtypes(include = ['float64','int64'])\n",
        "tips_num.head(5)\n",
        "tips_num.hist(figsize=(16, 20), bins=50, xlabelsize=8, ylabelsize=8)"
      ],
      "execution_count": null,
      "outputs": [
        {
          "output_type": "execute_result",
          "data": {
            "text/plain": [
              "array([[<matplotlib.axes._subplots.AxesSubplot object at 0x000001602F144DC0>,\n",
              "        <matplotlib.axes._subplots.AxesSubplot object at 0x000001602F2CC4C0>],\n",
              "       [<matplotlib.axes._subplots.AxesSubplot object at 0x0000016030767910>,\n",
              "        <matplotlib.axes._subplots.AxesSubplot object at 0x0000016030795670>]],\n",
              "      dtype=object)"
            ]
          },
          "metadata": {
            "tags": []
          },
          "execution_count": 14
        },
        {
          "output_type": "display_data",
          "data": {
            "image/png": "[encoded data removed]",
            "text/plain": [
              "<Figure size 1152x1440 with 4 Axes>"
            ]
          },
          "metadata": {
            "tags": [],
            "needs_background": "light"
          }
        }
      ]
    },
    {
      "cell_type": "markdown",
      "metadata": {
        "id": "gyE8RRmA3GSL"
      },
      "source": [
        "Distribusi normal memiliki bentuk yang simetris, artinya ekor di satu sisi merupakan bayangan cermin dari sisi lainnya. Akan tetapi data numerik diatas cenderung memiliki ekor yang lebih panjang di sisi kanan sehingga disebut right skewed distribution atau positively skewed distribution. Jadi data numerik di atas tidak cenderung berdistribusi normal."
      ]
    },
    {
      "cell_type": "markdown",
      "metadata": {
        "id": "AftY5tWB3GSL"
      },
      "source": [
        "# Number 3 and 4"
      ]
    },
    {
      "cell_type": "code",
      "metadata": {
        "id": "JkkySBAJAN9N"
      },
      "source": [
        "import seaborn as sns\n",
        "import numpy as np\n",
        "\n",
        "# Loading Contoh Data studi kasus pertama di atas\n",
        "tips = sns.load_dataset('tips') # Loading dari SeaBorn library's dataset\n",
        "# Ukuran Data\n",
        "N, P = tips.shape\n",
        "print('baris = ', N, ', Kolom = ', P)\n",
        "\n",
        "tips.head()"
      ],
      "execution_count": null,
      "outputs": []
    },
    {
      "cell_type": "code",
      "metadata": {
        "id": "bpv-PGHEAR_b"
      },
      "source": [
        "tips.info()"
      ],
      "execution_count": null,
      "outputs": []
    },
    {
      "cell_type": "markdown",
      "metadata": {
        "id": "Cgkt3_agAYt-"
      },
      "source": [
        "3. Apakah ada outlier, noise, missing values, dan-atau duplikasi data?"
      ]
    },
    {
      "cell_type": "code",
      "metadata": {
        "id": "hNzbc-vMAbqm"
      },
      "source": [
        "#mencari duplikasi\n",
        "print(tips.shape)\n",
        "tips.duplicated().sum()"
      ],
      "execution_count": null,
      "outputs": []
    },
    {
      "cell_type": "code",
      "metadata": {
        "id": "AvwdkpQuAdwj"
      },
      "source": [
        "#mencari outlier\n",
        "p = sns.distplot(tips['tip'], kde=True, rug=True)"
      ],
      "execution_count": null,
      "outputs": []
    },
    {
      "cell_type": "code",
      "metadata": {
        "id": "wExTr4y3Aggr"
      },
      "source": [
        "#mencari missing value\n",
        "print(tips.isnull().sum())"
      ],
      "execution_count": null,
      "outputs": []
    },
    {
      "cell_type": "markdown",
      "metadata": {
        "id": "AaDZ7XsCAj1g"
      },
      "source": [
        "Dari data diatas, dapat diketahui bahwa data memiliki duplikat dan outlier, tetapi tidak memiliki missing value"
      ]
    },
    {
      "cell_type": "markdown",
      "metadata": {
        "id": "U1lK1reVAn3T"
      },
      "source": [
        "4.Apakah pelanggan pria dan wanita cenderung proporsional (balance)?"
      ]
    },
    {
      "cell_type": "markdown",
      "metadata": {
        "id": "ldQT5Xb3AqWx"
      },
      "source": [
        "Dari keseluruhan data didapati bahwa pelanggan pria terdiri atas 64% dan pelanggan wanita terdiri atas 36%, maka terdapat kecenderungan bahwa pelanggan dari restoran tersebut adalah pria"
      ]
    },
    {
      "cell_type": "code",
      "metadata": {
        "id": "IsqoREQDAil2"
      },
      "source": [
        "p= sns.catplot(x=\"sex\", y=\"total_bill\", data=tips)"
      ],
      "execution_count": null,
      "outputs": []
    },
    {
      "cell_type": "markdown",
      "metadata": {
        "id": "WJTM0FV_AEju"
      },
      "source": [
        "# Number 5 and 6"
      ]
    },
    {
      "cell_type": "markdown",
      "metadata": {
        "id": "1XCsQAun3GSL"
      },
      "source": [
        "5. Dari data apakah Pria atau Wanita ada kecenderungan memberikan tips lebih besar?"
      ]
    },
    {
      "cell_type": "code",
      "metadata": {
        "id": "7eaY5Uua3GSM",
        "outputId": "cdb52ee6-1ba8-41bb-f202-98169e022a80"
      },
      "source": [
        "tips_data = sns.load_dataset('tips')\n",
        "display(tips_data.head())\n",
        "print(tips_data.info())\n",
        "print(tips_data.columns)\n",
        "print(tips_data.isnull().sum())\n",
        "print(tips_data.duplicated().sum())\n",
        "tips_data.drop_duplicates(inplace = True)\n",
        "print(tips_data.duplicated().sum())\n",
        "# Removing the outliers\n",
        "Q1 = tips_data['tip'].quantile(0.25)\n",
        "Q3 = tips_data['tip'].quantile(0.75)\n",
        "IQR = Q3 - Q1\n",
        "upperbound = Q3 + 1.5*IQR\n",
        "tips_data_new = tips_data[tips_data['tip'] <= upperbound] # data without outliers\n",
        "sns.catplot(x = 'sex', y = 'tip', data = tips_data_new, kind = 'box', whis = 1.5*IQR)"
      ],
      "execution_count": null,
      "outputs": [
        {
          "output_type": "display_data",
          "data": {
            "text/html": [
              "<div>\n",
              "<style scoped>\n",
              "    .dataframe tbody tr th:only-of-type {\n",
              "        vertical-align: middle;\n",
              "    }\n",
              "\n",
              "    .dataframe tbody tr th {\n",
              "        vertical-align: top;\n",
              "    }\n",
              "\n",
              "    .dataframe thead th {\n",
              "        text-align: right;\n",
              "    }\n",
              "</style>\n",
              "<table border=\"1\" class=\"dataframe\">\n",
              "  <thead>\n",
              "    <tr style=\"text-align: right;\">\n",
              "      <th></th>\n",
              "      <th>total_bill</th>\n",
              "      <th>tip</th>\n",
              "      <th>sex</th>\n",
              "      <th>smoker</th>\n",
              "      <th>day</th>\n",
              "      <th>time</th>\n",
              "      <th>size</th>\n",
              "    </tr>\n",
              "  </thead>\n",
              "  <tbody>\n",
              "    <tr>\n",
              "      <th>0</th>\n",
              "      <td>16.99</td>\n",
              "      <td>1.01</td>\n",
              "      <td>Female</td>\n",
              "      <td>No</td>\n",
              "      <td>Sun</td>\n",
              "      <td>Dinner</td>\n",
              "      <td>2</td>\n",
              "    </tr>\n",
              "    <tr>\n",
              "      <th>1</th>\n",
              "      <td>10.34</td>\n",
              "      <td>1.66</td>\n",
              "      <td>Male</td>\n",
              "      <td>No</td>\n",
              "      <td>Sun</td>\n",
              "      <td>Dinner</td>\n",
              "      <td>3</td>\n",
              "    </tr>\n",
              "    <tr>\n",
              "      <th>2</th>\n",
              "      <td>21.01</td>\n",
              "      <td>3.50</td>\n",
              "      <td>Male</td>\n",
              "      <td>No</td>\n",
              "      <td>Sun</td>\n",
              "      <td>Dinner</td>\n",
              "      <td>3</td>\n",
              "    </tr>\n",
              "    <tr>\n",
              "      <th>3</th>\n",
              "      <td>23.68</td>\n",
              "      <td>3.31</td>\n",
              "      <td>Male</td>\n",
              "      <td>No</td>\n",
              "      <td>Sun</td>\n",
              "      <td>Dinner</td>\n",
              "      <td>2</td>\n",
              "    </tr>\n",
              "    <tr>\n",
              "      <th>4</th>\n",
              "      <td>24.59</td>\n",
              "      <td>3.61</td>\n",
              "      <td>Female</td>\n",
              "      <td>No</td>\n",
              "      <td>Sun</td>\n",
              "      <td>Dinner</td>\n",
              "      <td>4</td>\n",
              "    </tr>\n",
              "  </tbody>\n",
              "</table>\n",
              "</div>"
            ],
            "text/plain": [
              "   total_bill   tip     sex smoker  day    time  size\n",
              "0       16.99  1.01  Female     No  Sun  Dinner     2\n",
              "1       10.34  1.66    Male     No  Sun  Dinner     3\n",
              "2       21.01  3.50    Male     No  Sun  Dinner     3\n",
              "3       23.68  3.31    Male     No  Sun  Dinner     2\n",
              "4       24.59  3.61  Female     No  Sun  Dinner     4"
            ]
          },
          "metadata": {
            "tags": []
          }
        },
        {
          "output_type": "stream",
          "text": [
            "<class 'pandas.core.frame.DataFrame'>\n",
            "RangeIndex: 244 entries, 0 to 243\n",
            "Data columns (total 7 columns):\n",
            " #   Column      Non-Null Count  Dtype   \n",
            "---  ------      --------------  -----   \n",
            " 0   total_bill  244 non-null    float64 \n",
            " 1   tip         244 non-null    float64 \n",
            " 2   sex         244 non-null    category\n",
            " 3   smoker      244 non-null    category\n",
            " 4   day         244 non-null    category\n",
            " 5   time        244 non-null    category\n",
            " 6   size        244 non-null    int64   \n",
            "dtypes: category(4), float64(2), int64(1)\n",
            "memory usage: 7.3 KB\n",
            "None\n",
            "Index(['total_bill', 'tip', 'sex', 'smoker', 'day', 'time', 'size'], dtype='object')\n",
            "total_bill    0\n",
            "tip           0\n",
            "sex           0\n",
            "smoker        0\n",
            "day           0\n",
            "time          0\n",
            "size          0\n",
            "dtype: int64\n",
            "1\n",
            "0\n"
          ],
          "name": "stdout"
        },
        {
          "output_type": "execute_result",
          "data": {
            "text/plain": [
              "<seaborn.axisgrid.FacetGrid at 0x1602f144730>"
            ]
          },
          "metadata": {
            "tags": []
          },
          "execution_count": 15
        },
        {
          "output_type": "display_data",
          "data": {
            "image/png": "[encoded data removed]",
            "text/plain": [
              "<Figure size 360x360 with 1 Axes>"
            ]
          },
          "metadata": {
            "tags": [],
            "needs_background": "light"
          }
        }
      ]
    },
    {
      "cell_type": "code",
      "metadata": {
        "id": "plkMZU943GSO",
        "outputId": "1255f492-366c-470b-9943-6ad55ccf2cc7"
      },
      "source": [
        "tips_sex = sns.catplot(x = 'sex', y = 'tip', data = tips_data_new, kind = 'bar', ci = None)\n",
        "tips_sex.set(ylabel = 'tip (average)') \n",
        "for i, bar in enumerate(tips_sex.ax.patches):\n",
        "    h = bar.get_height()\n",
        "    tips_sex.ax.text(\n",
        "        i, # bar index (x coordinate of text)\n",
        "        h+0.15, # y coordinate of text\n",
        "        '{0:.2f} $'.format(h),  # y label\n",
        "        ha='center', \n",
        "        va='center', \n",
        "        fontweight='bold', \n",
        "        size=14)\n",
        "fig,ax = plt.subplots()\n",
        "ax.hist(tips_data_new[tips_data_new['sex']=='Male']['tip'], label = 'Male', alpha = 0.5)\n",
        "ax.hist(tips_data_new[tips_data_new['sex']=='Female']['tip'], label = 'Female', alpha = 0.5)\n",
        "ax.set_xlabel('tips ($)')\n",
        "ax.set_ylabel('jumlah data')\n",
        "ax.legend()\n",
        "plt.show()"
      ],
      "execution_count": null,
      "outputs": [
        {
          "output_type": "display_data",
          "data": {
            "image/png": "[encoded data removed]",
            "text/plain": [
              "<Figure size 360x360 with 1 Axes>"
            ]
          },
          "metadata": {
            "tags": [],
            "needs_background": "light"
          }
        },
        {
          "output_type": "display_data",
          "data": {
            "image/png": "[encoded data removed]",
            "text/plain": [
              "<Figure size 432x288 with 1 Axes>"
            ]
          },
          "metadata": {
            "tags": [],
            "needs_background": "light"
          }
        }
      ]
    },
    {
      "cell_type": "markdown",
      "metadata": {
        "id": "8SG_u8U43GSQ"
      },
      "source": [
        "kesimpulan : terlihat dari visualisasi data yang telah dilakukan, pria memiliki nilai rata-rata tips lebih dibandingkan dengan wanita yang dimana diukur dari rata-ratakan semua data.Namun, asumsi tersebut hanya diukur dari 2 variabel yaitu variabel 'sex' dan 'tip'. Jika dilihat dari perbandingan ditribusinya, terlihat Pria cenderung memberikan tips yang lebih dibandingkan dengan wanita dan memiliki jumlah proposi data yang lebih banyak dibandingkan wanita, sehingga hal tersebut menyebabkan nilai rata-rata tips pria lebih tinggi dibandingkan wanita dari semua hari.Namun, untuk menjelaskan lebih detail apa yang menyebabkan nilai rata-rata dan besarnya nilai tips berbeda,harus membutuhkan visualisasi lebih lanjut dengan variabel lainnya, contohnya memeriksa apakah besarnya total bil setiap orang (individu) berpengaruh pada besarnya tips yang diberikan? dan apakah waktu makan (dinner atau lunch) individu mempengaruhi besarnya tip?, dan masih banyak lagi."
      ]
    },
    {
      "cell_type": "markdown",
      "metadata": {
        "id": "6s-GGJsv3GSQ"
      },
      "source": [
        "6. dari data yang ada apakah ada kecenderungan tips lebih besardi hari- hari tertentu?"
      ]
    },
    {
      "cell_type": "code",
      "metadata": {
        "id": "L6phJ9vO3GSR",
        "outputId": "1736ebad-5574-47ce-a9f2-6c721eedbd6a"
      },
      "source": [
        "days = ['Thur','Fri','Sat','Sun']\n",
        "for day in days:\n",
        "    # Subset to the airline\n",
        "    subset = tips_data_new[tips_data_new['day'] == day]\n",
        "    \n",
        "    # Draw the density plot\n",
        "    sns.distplot(subset['tip'], hist = False, kde = True,\n",
        "                 kde_kws = {'linewidth': 3},\n",
        "                 label = day)\n",
        "\n",
        "plt.legend(prop={'size': 16}, title = 'Day')\n",
        "plt.title('Tips by Day')\n",
        "plt.xlabel('Tip ($)')\n",
        "plt.ylabel('Density')\n",
        "\n",
        "tips_day = sns.catplot(x = 'day', y = 'tip', data = tips_data_new, kind = 'bar', ci = None)\n",
        "tips_day.set(ylabel = 'tip (average)') \n",
        "for i, bar in enumerate(tips_day.ax.patches):\n",
        "    h = bar.get_height()\n",
        "    tips_day.ax.text(\n",
        "        i, # bar index (x coordinate of text)\n",
        "        h+0.15, # y coordinate of text\n",
        "        '{0:.2f} $'.format(h),  # y label\n",
        "        ha='center', \n",
        "        va='center', \n",
        "        fontweight='bold', \n",
        "        size=14)\n",
        "plt.show()"
      ],
      "execution_count": null,
      "outputs": [
        {
          "output_type": "display_data",
          "data": {
            "image/png": "[encoded data removed]",
            "text/plain": [
              "<Figure size 432x288 with 1 Axes>"
            ]
          },
          "metadata": {
            "tags": [],
            "needs_background": "light"
          }
        },
        {
          "output_type": "display_data",
          "data": {
            "image/png": "[encoded data removed]",
            "text/plain": [
              "<Figure size 360x360 with 1 Axes>"
            ]
          },
          "metadata": {
            "tags": [],
            "needs_background": "light"
          }
        }
      ]
    },
    {
      "cell_type": "markdown",
      "metadata": {
        "id": "0rjygnPV3GSS"
      },
      "source": [
        "kesimpulan = terlihat pada visualisasi, nilai rata-rata dan density dari variabel tips untuk setiap harinya terdapat perbedaan. Pada hari minggu, terlihat nilai rata-rata tips dan memiliki nilai tips cenderung lebih tinggi dibandingkan dengan hari lainnya. Namun, untuk menjelaskan lebih detail apa yang menyebabkan nilai rata-rata dan besarnya nilai tips berbeda,harus membutuhkan visualisasi lebih lanjut dengan variabel lainnya, contohnya memeriksa apakah besarnya total bil setiap orang (individu) berpengaruh pada besarnya tips yang diberikan? dan apakah waktu makan (dinner atau lunch) individu mempengaruhi besarnya tip?, dan masih banyak lagi."
      ]
    },
    {
      "cell_type": "markdown",
      "metadata": {
        "id": "prHCLsqdBBGc"
      },
      "source": [
        "# Number 7 and 8"
      ]
    },
    {
      "cell_type": "markdown",
      "metadata": {
        "id": "gtefYaGfBEtq"
      },
      "source": [
        "7. Dari data yang ada apakah customer perokok cenderung memberi tips lebih besar?"
      ]
    },
    {
      "cell_type": "code",
      "metadata": {
        "id": "CwEj8pNABKhr"
      },
      "source": [
        "import pandas as pd\n",
        "import numpy as np\n",
        "import matplotlib.pyplot as plt\n",
        "import seaborn as sns\n",
        "path = 'tips.csv'\n",
        "df = pd.read_csv(path)"
      ],
      "execution_count": null,
      "outputs": []
    },
    {
      "cell_type": "code",
      "metadata": {
        "id": "zfgaseg9BPQd"
      },
      "source": [
        "tips = sns.load_dataset('tips') # Loading dari SeaBorn library's dataset\n",
        "# Ukuran Data\n",
        "N, P = tips.shape\n",
        "print('baris = ', N, ', Kolom = ', P)\n",
        "\n",
        "print(tips)"
      ],
      "execution_count": null,
      "outputs": []
    },
    {
      "cell_type": "code",
      "metadata": {
        "id": "q8KJIMHSBQ6Y"
      },
      "source": [
        "dfgab=tips[['tip','smoker']]\n",
        "dfgab1=tips[['tip','day']]\n",
        "dfgab3=tips[['tip','sex']]\n",
        "dfgab2=tips[['tip','day','sex','smoker']]\n",
        "print(dfgab)\n",
        "print(dfgab1)\n",
        "print(dfgab2)\n",
        "print(dfgab3)"
      ],
      "execution_count": null,
      "outputs": []
    },
    {
      "cell_type": "code",
      "metadata": {
        "id": "4ZyTJRi3BSx2"
      },
      "source": [
        "#mengeluarkan outlier\n",
        "Q1=tips['tip'].quantile(0.25)\n",
        "Q3=tips['tip'].quantile(0.75)\n",
        "IQR = Q3-Q1\n",
        "upperbound = Q3+1.5*IQR\n",
        "tips_new = tips[tips['tip']<= upperbound]\n",
        "sns.catplot(x='smoker',y='tip',data=tips_new,kind='box',whis=1.5*IQR)\n"
      ],
      "execution_count": null,
      "outputs": []
    },
    {
      "cell_type": "code",
      "metadata": {
        "id": "VvOJraweBUwi"
      },
      "source": [
        "#visualisasi data pelanggan merokok atau tidak dengan tips\n",
        "tips_smoker = sns.catplot(x='smoker',y='tip',data=tips_new,kind='bar',ci = None)\n",
        "tips_smoker.set(ylabel='tip(average)')\n",
        "for i, bar in enumerate(tips_smoker.ax.patches):\n",
        "  h = bar.get_height()\n",
        "  tips_smoker.ax.text(\n",
        "      i,\n",
        "      h+0.15,\n",
        "      '{0:.2f}$'.format(h),\n",
        "      ha='center',\n",
        "      va='center',\n",
        "      fontweight='bold',\n",
        "      size=14)\n",
        "fig,ax=plt.subplots()\n",
        "ax.hist(tips_new[tips_new['smoker']=='Yes']['tip'],label='Yes',alpha=0.5)\n",
        "ax.hist(tips_new[tips_new['smoker']=='No']['tip'],label='No',alpha=0.5)\n",
        "ax.set_xlabel('tips($)')\n",
        "ax.set_ylabel('jumlah data')\n",
        "ax.legend\n",
        "plt.show\n"
      ],
      "execution_count": null,
      "outputs": []
    },
    {
      "cell_type": "markdown",
      "metadata": {
        "id": "TpByCngxBaQS"
      },
      "source": [
        "JAWABAN NO.7\n",
        "Dari data yang ada, didapatkan bahwa rata-rata dalam pemberian tips untuk pelanggan yang merokok adalah 2.85 dolar \n",
        "sedangkan pemberian tips yang tidak merokok adalah 2.83 $ . Apabila dibulatkan, rata-rata pemberian pembeli yang merokok maupun tidak merokok hanya sedikit perbedaannya yaitu 0.02. Jadi, dari data tersebut tidak dapat dikatakan bahwa pelanggan yang merokok memberikan tip yang lebih besar karena rata-rata dari yang merokok maupun tidak merokok hampir sama besarnya untuk memberikan tip."
      ]
    },
    {
      "cell_type": "markdown",
      "metadata": {
        "id": "TSc22G2mBcb8"
      },
      "source": [
        "8. Apakah pola di nomer 5 dan 7 dipengaruhi hari?"
      ]
    },
    {
      "cell_type": "code",
      "metadata": {
        "id": "l78u3TzHBWsf"
      },
      "source": [
        "tips_day = sns.catplot(x='day',y='tip',data=tips_new,kind='bar',ci = None)\n",
        "tips_day.set(ylabel='tip(average)')\n",
        "for i, bar in enumerate(tips_day.ax.patches):\n",
        "  h = bar.get_height()\n",
        "  tips_day.ax.text(\n",
        "      i,\n",
        "      h+0.15,\n",
        "      '{0:.2f}$'.format(h),\n",
        "      ha='center',\n",
        "      va='center',\n",
        "      fontweight='bold',\n",
        "      size=14)"
      ],
      "execution_count": null,
      "outputs": []
    },
    {
      "cell_type": "code",
      "metadata": {
        "id": "w7mh75t2BhJU"
      },
      "source": [
        "#mencari pola hari \n",
        "def groupedbarplot(df, width=0.8, annotate=\"values\", ax=None, **kw):\n",
        "    ax = ax or plt.gca()\n",
        "    n = len(df.columns)\n",
        "    w = 1./n\n",
        "    pos = (np.linspace(w/2., 1-w/2., n)-0.5)*width\n",
        "    w *= width\n",
        "    bars = []\n",
        "    for col, x in zip(df.columns, pos):\n",
        "        bars.append(ax.bar(np.arange(len(df))+x, df[col].values, width=w, **kw))\n",
        "        # matplotlib.pyplot.bar(x, height, width=0.8, bottom=None, *, align='center', data=None, **kwargs)\n",
        "        for val, xi in zip(df[col].values, np.arange(len(df))+x):\n",
        "            if annotate:\n",
        "                txt = val if annotate == \"values\" else col\n",
        "                ax.annotate(txt, xy=(xi, val), xytext=(0,2), \n",
        "                            textcoords=\"offset points\",\n",
        "                            ha=\"center\", va=\"bottom\")\n",
        "    ax.set_xticks(np.arange(len(df)))\n",
        "    ax.legend(['Male','Female'])\n",
        "    ax.set_xticklabels(df.index)\n",
        "    return bars\n",
        "\n",
        "counts = tips_new.groupby([\"smoker\",\"day\",\"sex\"]).size().unstack()\n",
        "plt.figure(figsize=(12,8))\n",
        "groupedbarplot(counts)\n",
        "plt.show()"
      ],
      "execution_count": null,
      "outputs": []
    },
    {
      "cell_type": "markdown",
      "metadata": {
        "id": "Rv_BpvVOBkRQ"
      },
      "source": [
        "JAWABAN NO.8\n",
        "\n",
        "Pola pada nomer 5, yaitu pria atau wanita yang cenderung memberikan tips lebih besar serta pada nomer 7 yaitu pelanggan yang merokok atau tidak merokok yang memberikan tips lebih besar, menurut kelompok kami dipengaruhi oleh hari. Dimana, dapat dilihat bahwa pemasukkan untuk tips didapatkan paling banyak pada hari sabtu namun tidak berbeda jauh dengan hari minggu. Menurut kelompok kami, hal tersebut disebabkan karena weekend semakin banyak pelanggan yang datang ke cafe dibandingkan dengan weekdays. Jadi, menurut kelompok kami pada nomer 5 dan 7 dipengaruhi pola, yaitu pada saat weekend lebih banyak pendapatan tips nya dibandingkan pada saat weekdays"
      ]
    },
    {
      "cell_type": "markdown",
      "metadata": {
        "id": "dc_JvT3S3GST"
      },
      "source": [
        "# Number 9 and 10"
      ]
    },
    {
      "cell_type": "markdown",
      "metadata": {
        "id": "zeuPqZr93GSU"
      },
      "source": [
        "9.Pola apalagi yang dapat Anda temukan?"
      ]
    },
    {
      "cell_type": "code",
      "metadata": {
        "id": "xJzqLVsp3GSV",
        "outputId": "ab99b046-4b3d-4b27-a178-447aa2831bfd"
      },
      "source": [
        "#untuk mencari pola lain yang dapat ditemukan dari data, dapat menggunakan heatmap untuk mencari korelasi antara variabel\n",
        "corr = tips_data_new.corr()\n",
        "display(corr)\n",
        "sns.heatmap(corr, annot = True, cmap = 'mako')"
      ],
      "execution_count": null,
      "outputs": [
        {
          "output_type": "display_data",
          "data": {
            "text/html": [
              "<div>\n",
              "<style scoped>\n",
              "    .dataframe tbody tr th:only-of-type {\n",
              "        vertical-align: middle;\n",
              "    }\n",
              "\n",
              "    .dataframe tbody tr th {\n",
              "        vertical-align: top;\n",
              "    }\n",
              "\n",
              "    .dataframe thead th {\n",
              "        text-align: right;\n",
              "    }\n",
              "</style>\n",
              "<table border=\"1\" class=\"dataframe\">\n",
              "  <thead>\n",
              "    <tr style=\"text-align: right;\">\n",
              "      <th></th>\n",
              "      <th>total_bill</th>\n",
              "      <th>tip</th>\n",
              "      <th>size</th>\n",
              "    </tr>\n",
              "  </thead>\n",
              "  <tbody>\n",
              "    <tr>\n",
              "      <th>total_bill</th>\n",
              "      <td>1.000000</td>\n",
              "      <td>0.596727</td>\n",
              "      <td>0.581284</td>\n",
              "    </tr>\n",
              "    <tr>\n",
              "      <th>tip</th>\n",
              "      <td>0.596727</td>\n",
              "      <td>1.000000</td>\n",
              "      <td>0.447869</td>\n",
              "    </tr>\n",
              "    <tr>\n",
              "      <th>size</th>\n",
              "      <td>0.581284</td>\n",
              "      <td>0.447869</td>\n",
              "      <td>1.000000</td>\n",
              "    </tr>\n",
              "  </tbody>\n",
              "</table>\n",
              "</div>"
            ],
            "text/plain": [
              "            total_bill       tip      size\n",
              "total_bill    1.000000  0.596727  0.581284\n",
              "tip           0.596727  1.000000  0.447869\n",
              "size          0.581284  0.447869  1.000000"
            ]
          },
          "metadata": {
            "tags": []
          }
        },
        {
          "output_type": "execute_result",
          "data": {
            "text/plain": [
              "<matplotlib.axes._subplots.AxesSubplot at 0x1602f180100>"
            ]
          },
          "metadata": {
            "tags": []
          },
          "execution_count": 19
        },
        {
          "output_type": "display_data",
          "data": {
            "image/png": "[encoded data removed]",
            "text/plain": [
              "<Figure size 432x288 with 2 Axes>"
            ]
          },
          "metadata": {
            "tags": [],
            "needs_background": "light"
          }
        }
      ]
    },
    {
      "cell_type": "markdown",
      "metadata": {
        "id": "NprGlZIj3GSW"
      },
      "source": [
        "terlihat dari visualiasasi Heatmap menunjukkan dengan jelas bagaimana variabel-variabel berkorelasi antar satu dengan yang lainnya, jika nilai korelasi suatu pasangan variabel mendekati 1 , maka ada hubungan positif dari dua variabel tersebut, dan jika mendekati, maka kurang adanya hubungan positif dari dua variabel. terlihat variabel total_bil dan tip memeiliki nilai korelasi mendekati 1, sehingga dibutuhkannya visualisasi yang tepat untuk menunjukkan korelasi antar variabel tersebut (conothnya = scatterplot) dan sama halnya dengan variable total_bil dengan size yang memiliki nilai korelasi mendekati 1, sehingga dibutuhkan visualisasi yang tepat unutk menunjukkan korelasi antar variabel (contohnya = dengan scatterplot)"
      ]
    },
    {
      "cell_type": "markdown",
      "metadata": {
        "id": "xP9YWMG33GSW"
      },
      "source": [
        "10.Saran apa yang akan Anda berikan untuk pemilik restaurant?\n",
        "- Perbanyak ruangan tidak merokoknya;\n",
        "- Perbanyak pekerja atau pelayan di akhir pekan;\n",
        "- siapkan lebih banyak bahan makanan untuk makan malam;\n",
        "- siapkan suasana yang tepat untuk makan malam;\n",
        "- bersiap kedatangan pelanggan di hari kerja pada saat makan siang"
      ]
    }
  ]
}